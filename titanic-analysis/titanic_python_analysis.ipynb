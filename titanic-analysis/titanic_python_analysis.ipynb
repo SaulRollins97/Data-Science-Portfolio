import pandas as pd

df = pd.read_csv('../datasets/titanic.csv')
filtered_df = df[['PassengerId', 'Name', 'Sex', 'Age', 'Survived', 'Pclass']]
sorted_df = filtered_df.sort_values(by='Name')
sorted_df.head()
