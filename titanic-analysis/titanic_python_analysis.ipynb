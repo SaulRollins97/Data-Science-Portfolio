{
 "cells": [
  {
   "cell_type": "code",
   "execution_count": null,
   "id": "c7e71a6d",
   "metadata": {},
   "outputs": [],
   "source": [
    "import pandas as pd\n",
    "\n",
    "# Load dataset\n",
    "df = pd.read_csv('../datasets/titanic.csv')\n",
    "\n",
    "# Select relevant columns\n",
    "filtered_df = df[['PassengerId', 'Name', 'Sex', 'Age', 'Survived', 'Parch']]\n",
    "\n",
    "# Sort by name\n",
    "sorted_df = filtered_df.sort_values(by='Name')\n",
    "\n",
    "# Show first few rows\n",
    "sorted_df.head()\n"
   ]
  }
 ],
 "metadata": {},
 "nbformat": 4,
 "nbformat_minor": 5
}
