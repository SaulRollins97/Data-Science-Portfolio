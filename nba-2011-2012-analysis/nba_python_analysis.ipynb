{
 "cells": [
  {
   "cell_type": "code",
   "execution_count": null,
   "id": "77190327",
   "metadata": {},
   "outputs": [],
   "source": [
    "import pandas as pd\n",
    "\n",
    "# Load dataset\n",
    "df = pd.read_csv('../datasets/nba_2011_2012_stats.csv')\n",
    "\n",
    "# Select relevant columns\n",
    "filtered_df = df[['Player', 'Team', 'Pos', 'FG%', 'FT%', 'PTS']]\n",
    "\n",
    "# Sort by Team, then Player\n",
    "sorted_df = filtered_df.sort_values(by=['Team', 'Player'])\n",
    "\n",
    "# Show first few rows\n",
    "sorted_df.head()\n"
   ]
  }
 ],
 "metadata": {},
 "nbformat": 4,
 "nbformat_minor": 5
}
