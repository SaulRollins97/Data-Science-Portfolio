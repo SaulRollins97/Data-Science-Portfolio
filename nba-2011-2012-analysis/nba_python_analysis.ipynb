import pandas as pd

df = pd.read_csv('../datasets/nba_2011_2012_stats.csv')
filtered_df = df[['Player', 'Team', 'Pos', 'FG%', 'FT%', 'PTS']]
sorted_df = filtered_df.sort_values(by=['Team', 'Player'])
sorted_df.head()
